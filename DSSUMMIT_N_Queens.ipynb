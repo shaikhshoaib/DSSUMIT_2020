{
  "nbformat": 4,
  "nbformat_minor": 0,
  "metadata": {
    "colab": {
      "name": "DSSUMMIT_N-Queens.ipynb",
      "provenance": [],
      "collapsed_sections": [],
      "authorship_tag": "ABX9TyM3AD/3M/LuWM0RilnO4TW+",
      "include_colab_link": true
    },
    "kernelspec": {
      "name": "python3",
      "display_name": "Python 3"
    }
  },
  "cells": [
    {
      "cell_type": "markdown",
      "metadata": {
        "id": "view-in-github",
        "colab_type": "text"
      },
      "source": [
        "<a href=\"https://colab.research.google.com/github/shaikhshoaib/dssummit_genetic_prg/blob/master/DSSUMMIT_N_Queens.ipynb\" target=\"_parent\"><img src=\"https://colab.research.google.com/assets/colab-badge.svg\" alt=\"Open In Colab\"/></a>"
      ]
    },
    {
      "cell_type": "markdown",
      "metadata": {
        "id": "GC25m_pwhjkp",
        "colab_type": "text"
      },
      "source": [
        "**Data Science Summit 2020 Challenge**\n",
        "\n",
        "N-Queens Problem using Genetic Programming:\n",
        "\n",
        "The eight queens puzzle is the problem of placing eight chess queens on an 8×8 chessboard so that no two queens threaten each other; thus, a solution requires that no two queens share the same row, column, or diagonal. \n",
        "\n",
        "The challenge is to generate one right sequence through ***Genetic Programming***. The sequence has to be 8 numbers between 0 to 7. Each number represents the positions the Queens can be placed.\n",
        "\n",
        "Each number refers to the row number in the specific column\n",
        "\n",
        "[ 0\t3\t4\t5\t6\t1\t2\t4 ]\n",
        "\n",
        "•\t0 is the row number in the column 0 where the Queen can be placed\n",
        "\n",
        "•\t3 is the row number in the column 1 where the Queen can be placed\n"
      ]
    },
    {
      "cell_type": "markdown",
      "metadata": {
        "id": "sis0TjOLjoPJ",
        "colab_type": "text"
      },
      "source": [
        "Importing required libraries"
      ]
    },
    {
      "cell_type": "code",
      "metadata": {
        "id": "5aF_gQKUjjl8",
        "colab_type": "code",
        "colab": {}
      },
      "source": [
        "import random\n",
        "import numpy as np\n",
        "from random import randint as randInt"
      ],
      "execution_count": 41,
      "outputs": []
    },
    {
      "cell_type": "markdown",
      "metadata": {
        "id": "CwcM7twDju8E",
        "colab_type": "text"
      },
      "source": [
        "Creating a Gene class containing the specific gene and its corresponding score"
      ]
    },
    {
      "cell_type": "code",
      "metadata": {
        "id": "c-04NxdYjzQt",
        "colab_type": "code",
        "colab": {}
      },
      "source": [
        "class GenePool:\n",
        "    def __init__(self, gene, score):\n",
        "        self.gene = gene\n",
        "        self.score = score"
      ],
      "execution_count": 42,
      "outputs": []
    },
    {
      "cell_type": "markdown",
      "metadata": {
        "id": "uzC4NL8TkY1U",
        "colab_type": "text"
      },
      "source": [
        "Define the initial population as the base population to start"
      ]
    },
    {
      "cell_type": "code",
      "metadata": {
        "id": "Bcpma1iRkX01",
        "colab_type": "code",
        "colab": {}
      },
      "source": [
        "def initialPopulation():\n",
        "    population = []\n",
        "    for i in range(25):\n",
        "        np.random.seed(i)\n",
        "        r_list = np.random.randint(0, 7, 8)\n",
        "        population.append(r_list.tolist())\n",
        "    return population"
      ],
      "execution_count": 43,
      "outputs": []
    },
    {
      "cell_type": "markdown",
      "metadata": {
        "id": "gYKQmzzzk1E9",
        "colab_type": "text"
      },
      "source": [
        "Define the Fitness function that will mark the completion of program upon satisfying the fitness condition"
      ]
    },
    {
      "cell_type": "code",
      "metadata": {
        "id": "ef_DTbxbk0DU",
        "colab_type": "code",
        "colab": {}
      },
      "source": [
        "def calcFitness(population):\n",
        "    pool = []\n",
        "    for p in population:\n",
        "        scr = _calcFitness_util(p)\n",
        "        if sum(scr) == 28:\n",
        "            return (1,p)\n",
        "        pool.append(GenePool(p, sum(scr)))\n",
        "    return (0,pool)\n"
      ],
      "execution_count": 44,
      "outputs": []
    },
    {
      "cell_type": "markdown",
      "metadata": {
        "id": "9_TTZqlLlPXU",
        "colab_type": "text"
      },
      "source": [
        "Helper fitness function to calculate the score of each gene (parent) and return the score to fitness function"
      ]
    },
    {
      "cell_type": "code",
      "metadata": {
        "id": "n1GwCv31lOGQ",
        "colab_type": "code",
        "colab": {}
      },
      "source": [
        "def _calcFitness_util(parent):\n",
        "    n = len(parent)\n",
        "    res = []\n",
        "    q = 8\n",
        "    for i in range(n):\n",
        "        row = parent[i]\n",
        "        col = i\n",
        "        hit = 0\n",
        "        for r in range(col+1, n):\n",
        "            if (parent[r] == row):\n",
        "                hit += 1\n",
        "        new_r = row\n",
        "        new_c = col\n",
        "        while (new_r >= 0 and new_c >= 0 and new_r < n and new_c < n):\n",
        "            if (new_r != row and new_c != col and parent[new_c] == new_r):\n",
        "                hit += 1\n",
        "            new_r += 1\n",
        "            new_c += 1\n",
        "        new_r = row\n",
        "        new_c = col\n",
        "        while (new_r >= 0 and new_c >= 0 and new_r < n and new_c < n):\n",
        "            if (new_r != row and new_c != col and parent[new_c] == new_r):\n",
        "                hit += 1\n",
        "            new_r -= 1\n",
        "            new_c += 1\n",
        "        q -= 1\n",
        "        res.append(q-hit)\n",
        "    return res"
      ],
      "execution_count": 45,
      "outputs": []
    },
    {
      "cell_type": "markdown",
      "metadata": {
        "id": "4-ToDQcQltUl",
        "colab_type": "text"
      },
      "source": [
        "Crossover function to combine the genes (parents) to create new genes (children)\n",
        "\n",
        "**One point Crossover** used here"
      ]
    },
    {
      "cell_type": "code",
      "metadata": {
        "id": "2ZoI4jhwlsdw",
        "colab_type": "code",
        "colab": {}
      },
      "source": [
        "def crossOver(population):\n",
        "    new_pop = []\n",
        "    for i in range(25):\n",
        "        parent1 = population[i-1].gene\n",
        "        parent2 = population[i].gene\n",
        "        random.seed(10)\n",
        "        crossover_point = randInt(4,5)\n",
        "        child1 = mutate(parent1[:crossover_point]+parent2[crossover_point:])\n",
        "        #child1 = mutate(parent2[0:1]+parent1[1:2]+parent2[2:4]+parent1[4:])\n",
        "        new_pop.append(child1)\n",
        "        child2 = mutate(parent2[:crossover_point]+parent1[crossover_point:])\n",
        "        #child2 = mutate(parent1[0:1]+parent2[1:2]+parent1[2:4]+parent2[4:])\n",
        "        new_pop.append(child2)\n",
        "    return new_pop"
      ],
      "execution_count": 46,
      "outputs": []
    },
    {
      "cell_type": "markdown",
      "metadata": {
        "id": "mBz4TOlSm5pg",
        "colab_type": "text"
      },
      "source": [
        "Finally the Mutate function to mutate some traits of child coming from parent so as to have the child with some uniqueness"
      ]
    },
    {
      "cell_type": "code",
      "metadata": {
        "id": "3unK7-irm4dk",
        "colab_type": "code",
        "colab": {}
      },
      "source": [
        "def mutate(gene):\n",
        "    new_gene = []\n",
        "    for dna in gene:\n",
        "        if dna not in new_gene:\n",
        "            new_gene.append(dna)\n",
        "    for j in range(len(gene)):\n",
        "        if j not in new_gene:\n",
        "            new_gene.append(j)\n",
        "    random.seed(20)\n",
        "    left = randInt(0,3)\n",
        "    random.seed(30)\n",
        "    right = randInt(4,7)\n",
        "    new_gene[left], new_gene[right] = new_gene[right], new_gene[left]\n",
        "    return new_gene\n"
      ],
      "execution_count": 47,
      "outputs": []
    },
    {
      "cell_type": "markdown",
      "metadata": {
        "id": "h6E3F5fVngql",
        "colab_type": "text"
      },
      "source": [
        "Main function to start the execution of the program\n",
        "\n"
      ]
    },
    {
      "cell_type": "code",
      "metadata": {
        "id": "4yE67XoqndA9",
        "colab_type": "code",
        "colab": {
          "base_uri": "https://localhost:8080/",
          "height": 139
        },
        "outputId": "27d92541-3630-49a9-d9cc-5fda4fdedfd4"
      },
      "source": [
        "def main():\n",
        "    population = initialPopulation()\n",
        "    flag, gene_pool = calcFitness(population)\n",
        "    G = 0\n",
        "    while True:\n",
        "        G += 1\n",
        "        print('Generation {}'.format(G))\n",
        "        if (flag):\n",
        "            break\n",
        "        new_population = crossOver(gene_pool)\n",
        "        flag, gene_pool = calcFitness(new_population)\n",
        "    return gene_pool\n",
        "\n",
        "main()\n"
      ],
      "execution_count": 48,
      "outputs": [
        {
          "output_type": "stream",
          "text": [
            "Generation 1\n",
            "Generation 2\n",
            "Generation 3\n",
            "Generation 4\n",
            "Generation 5\n",
            "Generation 6\n"
          ],
          "name": "stdout"
        },
        {
          "output_type": "execute_result",
          "data": {
            "text/plain": [
              "[4, 6, 0, 3, 1, 7, 5, 2]"
            ]
          },
          "metadata": {
            "tags": []
          },
          "execution_count": 48
        }
      ]
    }
  ]
}