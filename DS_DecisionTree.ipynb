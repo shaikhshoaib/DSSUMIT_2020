{
  "nbformat": 4,
  "nbformat_minor": 0,
  "metadata": {
    "colab": {
      "name": "DS_DecisionTree.ipynb",
      "provenance": [],
      "collapsed_sections": [],
      "authorship_tag": "ABX9TyMz5OsA41Glol8XxCAfYvxR",
      "include_colab_link": true
    },
    "kernelspec": {
      "name": "python3",
      "display_name": "Python 3"
    }
  },
  "cells": [
    {
      "cell_type": "markdown",
      "metadata": {
        "id": "view-in-github",
        "colab_type": "text"
      },
      "source": [
        "<a href=\"https://colab.research.google.com/github/shaikhshoaib/DSSUMIT_2020/blob/master/DS_DecisionTree.ipynb\" target=\"_parent\"><img src=\"https://colab.research.google.com/assets/colab-badge.svg\" alt=\"Open In Colab\"/></a>"
      ]
    },
    {
      "cell_type": "code",
      "metadata": {
        "id": "veLLWxW3qF9r",
        "colab_type": "code",
        "colab": {}
      },
      "source": [
        "import pandas as pd\n",
        "import numpy as np\n",
        "import matplotlib.pyplot as plt"
      ],
      "execution_count": 317,
      "outputs": []
    },
    {
      "cell_type": "code",
      "metadata": {
        "id": "afBFp8nzqUat",
        "colab_type": "code",
        "colab": {}
      },
      "source": [
        "df_train = pd.read_csv('train.csv')\n",
        "#df_train = df_train[df_train.race != '?']\n",
        "df_test = pd.read_csv('test.csv')\n",
        "#df_test = df_test[df_test.race != '?']"
      ],
      "execution_count": 318,
      "outputs": []
    },
    {
      "cell_type": "code",
      "metadata": {
        "id": "xUrokTl_yqoW",
        "colab_type": "code",
        "colab": {
          "base_uri": "https://localhost:8080/",
          "height": 104
        },
        "outputId": "8dcaa864-1c5c-403e-fcf8-424d873cd373"
      },
      "source": [
        "df_train['tel_9'].describe()"
      ],
      "execution_count": 319,
      "outputs": [
        {
          "output_type": "execute_result",
          "data": {
            "text/plain": [
              "count     14696\n",
              "unique      512\n",
              "top         428\n",
              "freq       1026\n",
              "Name: tel_9, dtype: object"
            ]
          },
          "metadata": {
            "tags": []
          },
          "execution_count": 319
        }
      ]
    },
    {
      "cell_type": "code",
      "metadata": {
        "id": "Uk27rWfguB4F",
        "colab_type": "code",
        "colab": {
          "base_uri": "https://localhost:8080/",
          "height": 485
        },
        "outputId": "d9c0563e-bab6-45df-c503-11e537412ce5"
      },
      "source": [
        "print(df_train['tel_12'].value_counts())\n",
        "print(df_test['tel_12'].value_counts())"
      ],
      "execution_count": 320,
      "outputs": [
        {
          "output_type": "stream",
          "text": [
            "9     8448\n",
            "7     1344\n",
            "8     1297\n",
            "6     1259\n",
            "5     1236\n",
            "4      659\n",
            "3      306\n",
            "2      104\n",
            "1       18\n",
            "16      14\n",
            "10       3\n",
            "14       2\n",
            "13       2\n",
            "11       2\n",
            "15       1\n",
            "12       1\n",
            "Name: tel_12, dtype: int64\n",
            "9    2864\n",
            "5    1232\n",
            "8     952\n",
            "6     946\n",
            "7     909\n",
            "4     558\n",
            "3     339\n",
            "2     141\n",
            "1      29\n",
            "Name: tel_12, dtype: int64\n"
          ],
          "name": "stdout"
        }
      ]
    },
    {
      "cell_type": "code",
      "metadata": {
        "id": "b1TUDh2oqf6h",
        "colab_type": "code",
        "colab": {}
      },
      "source": [
        "#df_train['tel_49'].value_counts()\n",
        "df_train['race'].replace({'?': 'Other'}, inplace=True)\n",
        "df_test['race'].replace({'?': 'Other'}, inplace=True)"
      ],
      "execution_count": 321,
      "outputs": []
    },
    {
      "cell_type": "code",
      "metadata": {
        "id": "rS1WC3SW5o3P",
        "colab_type": "code",
        "colab": {}
      },
      "source": [
        "#df_train['tel_9'].replace({'V54': np.nan,'V55': np.nan,'V57': np.nan,'V58': np.nan}, inplace=True)\n",
        "#df_train['tel_9'].replace({'V53': np.nan, 'V54': np.nan,'V55': np.nan,'V57': np.nan,'V58': np.nan, \n",
        "                           #'V60': np.nan, 'V71': np.nan, '?': np.nan}, inplace=True)"
      ],
      "execution_count": 322,
      "outputs": []
    },
    {
      "cell_type": "code",
      "metadata": {
        "id": "rDfDA0TF9KjK",
        "colab_type": "code",
        "colab": {
          "base_uri": "https://localhost:8080/",
          "height": 225
        },
        "outputId": "82be1e73-e287-4b41-f8be-9e1f1a1686c5"
      },
      "source": [
        "df_train['tel_9'].value_counts()"
      ],
      "execution_count": 323,
      "outputs": [
        {
          "output_type": "execute_result",
          "data": {
            "text/plain": [
              "428    1026\n",
              "414     792\n",
              "486     587\n",
              "786     536\n",
              "410     462\n",
              "       ... \n",
              "660       1\n",
              "164       1\n",
              "135       1\n",
              "52        1\n",
              "V63       1\n",
              "Name: tel_9, Length: 512, dtype: int64"
            ]
          },
          "metadata": {
            "tags": []
          },
          "execution_count": 323
        }
      ]
    },
    {
      "cell_type": "code",
      "metadata": {
        "id": "S8vPlhz8u6Cq",
        "colab_type": "code",
        "colab": {
          "base_uri": "https://localhost:8080/",
          "height": 225
        },
        "outputId": "b381095e-5569-4ed8-9647-06c6214f84e0"
      },
      "source": [
        "print(df_train['race'].value_counts())\n",
        "print(df_test['race'].value_counts())"
      ],
      "execution_count": 324,
      "outputs": [
        {
          "output_type": "stream",
          "text": [
            "Caucasian          11216\n",
            "AfricanAmerican     2543\n",
            "Other                556\n",
            "Hispanic             278\n",
            "Asian                103\n",
            "Name: race, dtype: int64\n",
            "Caucasian          5776\n",
            "AfricanAmerican    1680\n",
            "Other               294\n",
            "Hispanic            170\n",
            "Asian                50\n",
            "Name: race, dtype: int64\n"
          ],
          "name": "stdout"
        }
      ]
    },
    {
      "cell_type": "code",
      "metadata": {
        "id": "B7sw7QKWqYCu",
        "colab_type": "code",
        "colab": {}
      },
      "source": [
        "X_train = df_train[['race', 'gender', 'age', 'time_in_hospital', 'tel_3', 'tel_4', 'tel_5', 'tel_12', 'tel_42' ,'tel_49']].values\n",
        "X_test = df_test[['race', 'gender', 'age', 'time_in_hospital', 'tel_3', 'tel_4', 'tel_5', 'tel_12', 'tel_42' ,'tel_49']].values\n",
        "#X_train = df_train[['race', 'gender', 'age', 'weight']].values\n",
        "#X_test = df_test[['race', 'gender', 'age', 'weight']].values\n",
        "y_train = df_train.iloc[:,-1].values\n",
        "#print(np.unique(X_train[:,3], return_counts=True))\n",
        "#print(np.unique(X_test[:,3], return_counts=True))"
      ],
      "execution_count": 325,
      "outputs": []
    },
    {
      "cell_type": "code",
      "metadata": {
        "id": "OW_RiMBL7RdV",
        "colab_type": "code",
        "colab": {
          "base_uri": "https://localhost:8080/",
          "height": 52
        },
        "outputId": "7006bba5-08dd-444e-b542-a1413cc09395"
      },
      "source": [
        "print(len(X_train))\n",
        "print(np.unique(y_train, return_counts=True))"
      ],
      "execution_count": 326,
      "outputs": [
        {
          "output_type": "stream",
          "text": [
            "14696\n",
            "(array([0, 1]), array([ 1489, 13207]))\n"
          ],
          "name": "stdout"
        }
      ]
    },
    {
      "cell_type": "code",
      "metadata": {
        "id": "5rvFAQ146g14",
        "colab_type": "code",
        "colab": {}
      },
      "source": [
        "from sklearn.impute import SimpleImputer\n",
        "\n",
        "#imputer_1 = SimpleImputer(missing_values=np.nan, strategy='mean')\n",
        "\n",
        "#imputer_1.fit(X_train[:,4:5])\n",
        "#X_train[:,4:5] = imputer_1.transform(X_train[:,4:5])\n",
        "#imputer.fit(X_train[:,3:4])\n",
        "#X_train[:,3:4] = imputer.transform(X_train[:,3:4])\n",
        "\n",
        "#imputer_1.fit(X_test[:,4:5])\n",
        "#X_test[:,4:5] = imputer_1.transform(X_test[:,4:5])\n",
        "#imputer.fit(X_test[:,3:4])\n",
        "#X_test[:,3:4] = imputer.transform(X_test[:,3:4])"
      ],
      "execution_count": 327,
      "outputs": []
    },
    {
      "cell_type": "code",
      "metadata": {
        "id": "9_XFp0-q4DpP",
        "colab_type": "code",
        "colab": {}
      },
      "source": [
        "from sklearn.compose import ColumnTransformer\n",
        "from sklearn.preprocessing import OneHotEncoder, LabelEncoder\n",
        "\n",
        "col_trns = ColumnTransformer([('encoder', OneHotEncoder(sparse=False), [0,8,9])], remainder='passthrough')\n",
        "lab_enc = LabelEncoder()\n",
        "\n",
        "X_train = np.array(col_trns.fit_transform(X_train))\n",
        "#X_train[:,-4] = lab_enc.fit_transform(X_train[:,-4])\n",
        "#X_train[:,-3] = lab_enc.fit_transform(X_train[:,-3])\n",
        "X_train[:,-6] = lab_enc.fit_transform(X_train[:,-6])\n",
        "X_train[:,-7] = lab_enc.fit_transform(X_train[:,-7])\n",
        "#X_train = X_train[:,1:]\n",
        "\n",
        "X_test = np.array(col_trns.fit_transform(X_test))\n",
        "#X_test[:,-4] = lab_enc.fit_transform(X_test[:,-4])\n",
        "#X_test[:,-3] = lab_enc.fit_transform(X_test[:,-3])\n",
        "X_test[:,-6] = lab_enc.fit_transform(X_test[:,-6])\n",
        "X_test[:,-7] = lab_enc.fit_transform(X_test[:,-7])\n",
        "#X_test = X_test[:,1:]"
      ],
      "execution_count": 328,
      "outputs": []
    },
    {
      "cell_type": "code",
      "metadata": {
        "id": "OH04VmaG57fi",
        "colab_type": "code",
        "colab": {
          "base_uri": "https://localhost:8080/",
          "height": 52
        },
        "outputId": "118bc518-a723-438f-cf3f-98d0732be506"
      },
      "source": [
        "print(X_test[0])\n",
        "print(len(X_test[0]))"
      ],
      "execution_count": 329,
      "outputs": [
        {
          "output_type": "stream",
          "text": [
            "[0.0 0.0 1.0 0.0 0.0 0.0 0.0 1.0 0.0 0.0 0.0 1.0 0 6 4 60 6 22 7]\n",
            "19\n"
          ],
          "name": "stdout"
        }
      ]
    },
    {
      "cell_type": "code",
      "metadata": {
        "id": "byTenSsmqlxF",
        "colab_type": "code",
        "colab": {
          "base_uri": "https://localhost:8080/",
          "height": 121
        },
        "outputId": "ec8e6373-4802-457e-828c-013358e7b467"
      },
      "source": [
        "from sklearn.tree import DecisionTreeClassifier\n",
        "classifier = DecisionTreeClassifier(criterion='entropy')\n",
        "classifier.fit(X_train, y_train)"
      ],
      "execution_count": 330,
      "outputs": [
        {
          "output_type": "execute_result",
          "data": {
            "text/plain": [
              "DecisionTreeClassifier(ccp_alpha=0.0, class_weight=None, criterion='entropy',\n",
              "                       max_depth=None, max_features=None, max_leaf_nodes=None,\n",
              "                       min_impurity_decrease=0.0, min_impurity_split=None,\n",
              "                       min_samples_leaf=1, min_samples_split=2,\n",
              "                       min_weight_fraction_leaf=0.0, presort='deprecated',\n",
              "                       random_state=None, splitter='best')"
            ]
          },
          "metadata": {
            "tags": []
          },
          "execution_count": 330
        }
      ]
    },
    {
      "cell_type": "code",
      "metadata": {
        "id": "jBd5GmKs_Czq",
        "colab_type": "code",
        "colab": {}
      },
      "source": [
        "#print(classifier.predict([[0, 1, 0, 0, 0, 0, 1, 5, 4, 1]]))"
      ],
      "execution_count": 331,
      "outputs": []
    },
    {
      "cell_type": "code",
      "metadata": {
        "id": "jloKFDrovGeN",
        "colab_type": "code",
        "colab": {
          "base_uri": "https://localhost:8080/",
          "height": 156
        },
        "outputId": "c4bfc837-5f47-456d-9846-a67e0ef12d0b"
      },
      "source": [
        "test_pred = classifier.predict(X_test)\n",
        "print(test_pred.reshape(len(test_pred), 1))\n",
        "print(np.unique(test_pred, return_counts=True))"
      ],
      "execution_count": 332,
      "outputs": [
        {
          "output_type": "stream",
          "text": [
            "[[1]\n",
            " [1]\n",
            " [0]\n",
            " ...\n",
            " [0]\n",
            " [0]\n",
            " [1]]\n",
            "(array([0, 1]), array([1613, 6357]))\n"
          ],
          "name": "stdout"
        }
      ]
    },
    {
      "cell_type": "code",
      "metadata": {
        "id": "YVImK-Q9KTPE",
        "colab_type": "code",
        "colab": {
          "base_uri": "https://localhost:8080/",
          "height": 260
        },
        "outputId": "4e8a1c14-7f59-492c-97f7-d74a8d79b9c7"
      },
      "source": [
        "enc_id = df_test['encounter_id']\n",
        "submission = pd.DataFrame({\n",
        "              \"encounter_id\": enc_id, \n",
        "              \"diabetesMed\": test_pred})\n",
        "#submission = submission[['diabetesMed', 'encounter_id']]\n",
        "print(submission)"
      ],
      "execution_count": 333,
      "outputs": [
        {
          "output_type": "stream",
          "text": [
            "      encounter_id  diabetesMed\n",
            "0         97074168            1\n",
            "1         38255910            1\n",
            "2         36573714            0\n",
            "3         73972230            1\n",
            "4         68202342            0\n",
            "...            ...          ...\n",
            "7965      86749284            1\n",
            "7966     135741342            1\n",
            "7967      65660634            0\n",
            "7968      73248582            0\n",
            "7969      48791304            1\n",
            "\n",
            "[7970 rows x 2 columns]\n"
          ],
          "name": "stdout"
        }
      ]
    },
    {
      "cell_type": "code",
      "metadata": {
        "id": "T4Y41wPLMW8P",
        "colab_type": "code",
        "colab": {}
      },
      "source": [
        "#submission.to_csv('submission_test.csv', index=False)"
      ],
      "execution_count": 334,
      "outputs": []
    }
  ]
}