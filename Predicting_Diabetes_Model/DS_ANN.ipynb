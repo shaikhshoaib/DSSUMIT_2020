{
  "nbformat": 4,
  "nbformat_minor": 0,
  "metadata": {
    "colab": {
      "name": "DS_ANN.ipynb",
      "provenance": [],
      "collapsed_sections": []
    },
    "kernelspec": {
      "name": "python3",
      "display_name": "Python 3"
    }
  },
  "cells": [
    {
      "cell_type": "code",
      "metadata": {
        "id": "OudHquRUYIse",
        "colab_type": "code",
        "colab": {}
      },
      "source": [
        "import pandas as pd\n",
        "import numpy as np\n",
        "import tensorflow as tf\n",
        "from sklearn.impute import SimpleImputer\n",
        "from sklearn.compose import ColumnTransformer\n",
        "from sklearn.preprocessing import OneHotEncoder, LabelEncoder\n",
        "from sklearn.tree import DecisionTreeClassifier\n",
        "#import matplotlib.pyplot as plt"
      ],
      "execution_count": 14,
      "outputs": []
    },
    {
      "cell_type": "code",
      "metadata": {
        "id": "G9QSbxmKnpZi",
        "colab_type": "code",
        "colab": {}
      },
      "source": [
        "df_train = pd.read_csv('train.csv')\n",
        "#df_train = df_train[df_train.race != '?']\n",
        "df_test = pd.read_csv('test.csv')\n",
        "#df_test = df_test[df_test.race != '?']"
      ],
      "execution_count": 15,
      "outputs": []
    },
    {
      "cell_type": "code",
      "metadata": {
        "id": "8nHjyY6exQar",
        "colab_type": "code",
        "colab": {}
      },
      "source": [
        "df_train['race'].replace({'?': 'Other'}, inplace=True)\n",
        "df_test['race'].replace({'?': 'Other'}, inplace=True)"
      ],
      "execution_count": 16,
      "outputs": []
    },
    {
      "cell_type": "code",
      "metadata": {
        "id": "ATUHzXDMnrnW",
        "colab_type": "code",
        "colab": {}
      },
      "source": [
        "X_train = df_train[['race', 'gender', 'age', 'time_in_hospital', 'tel_48', 'tel_49']].values\n",
        "X_test = df_test[['race', 'gender', 'age', 'time_in_hospital', 'tel_48', 'tel_49']].values\n",
        "#X_train = df_train[['race', 'gender', 'age', 'weight']].values\n",
        "#X_test = df_test[['race', 'gender', 'age', 'weight']].values\n",
        "y_train = df_train.iloc[:,-1].values"
      ],
      "execution_count": 17,
      "outputs": []
    },
    {
      "cell_type": "code",
      "metadata": {
        "id": "MEQ5lZeqntdt",
        "colab_type": "code",
        "colab": {}
      },
      "source": [
        "from sklearn.impute import SimpleImputer\n",
        "\n",
        "#imputer = SimpleImputer(missing_values='?', strategy='most_frequent')\n",
        "\n",
        "#imputer.fit(X_train[:,0:1])\n",
        "#X_train[:,0:1] = imputer.transform(X_train[:,0:1])\n",
        "#imputer.fit(X_train[:,3:4])\n",
        "#X_train[:,3:4] = imputer.transform(X_train[:,3:4])\n",
        "\n",
        "#imputer.fit(X_test[:,0:1])\n",
        "#X_test[:,0:1] = imputer.transform(X_test[:,0:1])\n",
        "#imputer.fit(X_test[:,3:4])\n",
        "#X_test[:,3:4] = imputer.transform(X_test[:,3:4])"
      ],
      "execution_count": 18,
      "outputs": []
    },
    {
      "cell_type": "code",
      "metadata": {
        "id": "vm0R3DOyn0EX",
        "colab_type": "code",
        "colab": {}
      },
      "source": [
        "from sklearn.compose import ColumnTransformer\n",
        "from sklearn.preprocessing import OneHotEncoder, LabelEncoder\n",
        "\n",
        "col_trns = ColumnTransformer([('encoder', OneHotEncoder(sparse=False), [0,4,5])], remainder='passthrough')\n",
        "lab_enc = LabelEncoder()\n",
        "\n",
        "X_train = np.array(col_trns.fit_transform(X_train))\n",
        "#X_train[:,-4] = lab_enc.fit_transform(X_train[:,-4])\n",
        "X_train[:,-2] = lab_enc.fit_transform(X_train[:,-2])\n",
        "X_train[:,-3] = lab_enc.fit_transform(X_train[:,-3])\n",
        "X_train = X_train.astype(np.float32)\n",
        "#X_train = X_train[:,1:]\n",
        "\n",
        "X_test = np.array(col_trns.fit_transform(X_test))\n",
        "#X_test[:,-4] = lab_enc.fit_transform(X_test[:,-4])\n",
        "X_test[:,-2] = lab_enc.fit_transform(X_test[:,-2])\n",
        "X_test[:,-3] = lab_enc.fit_transform(X_test[:,-3])\n",
        "X_test = X_test.astype(np.float32)\n",
        "#X_test = X_test[:,1:]"
      ],
      "execution_count": 19,
      "outputs": []
    },
    {
      "cell_type": "code",
      "metadata": {
        "id": "ZkC8YX8sq1R0",
        "colab_type": "code",
        "colab": {
          "base_uri": "https://localhost:8080/",
          "height": 35
        },
        "outputId": "53898a89-1170-454b-8f05-6b6eb9406753"
      },
      "source": [
        "print(X_train[0])"
      ],
      "execution_count": 20,
      "outputs": [
        {
          "output_type": "stream",
          "text": [
            "[0. 0. 1. 0. 0. 1. 0. 0. 1. 0. 1. 8. 6.]\n"
          ],
          "name": "stdout"
        }
      ]
    },
    {
      "cell_type": "code",
      "metadata": {
        "id": "60r5IJUIn2vJ",
        "colab_type": "code",
        "colab": {}
      },
      "source": [
        "ann = tf.keras.models.Sequential()"
      ],
      "execution_count": 21,
      "outputs": []
    },
    {
      "cell_type": "code",
      "metadata": {
        "id": "a5xMoc9wpDdX",
        "colab_type": "code",
        "colab": {}
      },
      "source": [
        "ann.add(tf.keras.layers.Dense(units=6, activation='relu'))"
      ],
      "execution_count": 22,
      "outputs": []
    },
    {
      "cell_type": "code",
      "metadata": {
        "id": "t-vgHrehpEJU",
        "colab_type": "code",
        "colab": {}
      },
      "source": [
        "ann.add(tf.keras.layers.Dense(units=6, activation='relu'))"
      ],
      "execution_count": 23,
      "outputs": []
    },
    {
      "cell_type": "code",
      "metadata": {
        "id": "fQyhY_VspHXt",
        "colab_type": "code",
        "colab": {}
      },
      "source": [
        "ann.add(tf.keras.layers.Dense(units=1, activation='sigmoid'))"
      ],
      "execution_count": 24,
      "outputs": []
    },
    {
      "cell_type": "code",
      "metadata": {
        "id": "TEnXE6UspXMx",
        "colab_type": "code",
        "colab": {}
      },
      "source": [
        "ann.compile(optimizer='adam', loss='binary_crossentropy', metrics=['accuracy'])"
      ],
      "execution_count": 25,
      "outputs": []
    },
    {
      "cell_type": "code",
      "metadata": {
        "id": "AMBpBQp8pnSF",
        "colab_type": "code",
        "colab": {
          "base_uri": "https://localhost:8080/",
          "height": 901
        },
        "outputId": "64ccc74a-bf3a-4ce6-8f40-2c7a3d5359ef"
      },
      "source": [
        "ann.fit(X_train, y_train, batch_size=32, epochs=25)"
      ],
      "execution_count": 26,
      "outputs": [
        {
          "output_type": "stream",
          "text": [
            "Epoch 1/25\n",
            "460/460 [==============================] - 1s 1ms/step - loss: 0.3694 - accuracy: 0.8976\n",
            "Epoch 2/25\n",
            "460/460 [==============================] - 1s 1ms/step - loss: 0.2681 - accuracy: 0.8987\n",
            "Epoch 3/25\n",
            "460/460 [==============================] - 1s 1ms/step - loss: 0.2423 - accuracy: 0.8987\n",
            "Epoch 4/25\n",
            "460/460 [==============================] - 1s 1ms/step - loss: 0.2373 - accuracy: 0.8987\n",
            "Epoch 5/25\n",
            "460/460 [==============================] - 1s 1ms/step - loss: 0.2357 - accuracy: 0.8987\n",
            "Epoch 6/25\n",
            "460/460 [==============================] - 1s 1ms/step - loss: 0.2345 - accuracy: 0.8987\n",
            "Epoch 7/25\n",
            "460/460 [==============================] - 1s 1ms/step - loss: 0.2341 - accuracy: 0.8987\n",
            "Epoch 8/25\n",
            "460/460 [==============================] - 1s 1ms/step - loss: 0.2337 - accuracy: 0.8987\n",
            "Epoch 9/25\n",
            "460/460 [==============================] - 1s 1ms/step - loss: 0.2333 - accuracy: 0.8987\n",
            "Epoch 10/25\n",
            "460/460 [==============================] - 1s 1ms/step - loss: 0.2331 - accuracy: 0.8987\n",
            "Epoch 11/25\n",
            "460/460 [==============================] - 1s 1ms/step - loss: 0.2335 - accuracy: 0.8987\n",
            "Epoch 12/25\n",
            "460/460 [==============================] - 1s 1ms/step - loss: 0.2329 - accuracy: 0.8987\n",
            "Epoch 13/25\n",
            "460/460 [==============================] - 1s 1ms/step - loss: 0.2332 - accuracy: 0.8987\n",
            "Epoch 14/25\n",
            "460/460 [==============================] - 1s 1ms/step - loss: 0.2328 - accuracy: 0.8987\n",
            "Epoch 15/25\n",
            "460/460 [==============================] - 1s 1ms/step - loss: 0.2330 - accuracy: 0.8987\n",
            "Epoch 16/25\n",
            "460/460 [==============================] - 1s 1ms/step - loss: 0.2327 - accuracy: 0.8987\n",
            "Epoch 17/25\n",
            "460/460 [==============================] - 1s 1ms/step - loss: 0.2327 - accuracy: 0.8987\n",
            "Epoch 18/25\n",
            "460/460 [==============================] - 1s 1ms/step - loss: 0.2327 - accuracy: 0.8987\n",
            "Epoch 19/25\n",
            "460/460 [==============================] - 1s 1ms/step - loss: 0.2325 - accuracy: 0.8987\n",
            "Epoch 20/25\n",
            "460/460 [==============================] - 1s 1ms/step - loss: 0.2325 - accuracy: 0.8988\n",
            "Epoch 21/25\n",
            "460/460 [==============================] - 1s 1ms/step - loss: 0.2324 - accuracy: 0.8988\n",
            "Epoch 22/25\n",
            "460/460 [==============================] - 1s 1ms/step - loss: 0.2324 - accuracy: 0.8990\n",
            "Epoch 23/25\n",
            "460/460 [==============================] - 1s 1ms/step - loss: 0.2326 - accuracy: 0.8990\n",
            "Epoch 24/25\n",
            "460/460 [==============================] - 1s 1ms/step - loss: 0.2325 - accuracy: 0.8990\n",
            "Epoch 25/25\n",
            "460/460 [==============================] - 1s 1ms/step - loss: 0.2325 - accuracy: 0.8989\n"
          ],
          "name": "stdout"
        },
        {
          "output_type": "execute_result",
          "data": {
            "text/plain": [
              "<tensorflow.python.keras.callbacks.History at 0x7f752c9857b8>"
            ]
          },
          "metadata": {
            "tags": []
          },
          "execution_count": 26
        }
      ]
    },
    {
      "cell_type": "code",
      "metadata": {
        "id": "pGva7VSvp4_h",
        "colab_type": "code",
        "colab": {
          "base_uri": "https://localhost:8080/",
          "height": 156
        },
        "outputId": "86f017b0-228f-497a-bb2b-44b3b65739fa"
      },
      "source": [
        "test_pred = ann.predict(X_test)\n",
        "test_pred = np.where(test_pred > 0.5, 1, 0)\n",
        "print(test_pred.reshape(len(test_pred), 1))\n",
        "print(np.unique(test_pred, return_counts=True))"
      ],
      "execution_count": 27,
      "outputs": [
        {
          "output_type": "stream",
          "text": [
            "[[1]\n",
            " [1]\n",
            " [1]\n",
            " ...\n",
            " [1]\n",
            " [1]\n",
            " [1]]\n",
            "(array([0, 1]), array([   2, 7968]))\n"
          ],
          "name": "stdout"
        }
      ]
    },
    {
      "cell_type": "code",
      "metadata": {
        "id": "B3Bdz7JGn59L",
        "colab_type": "code",
        "colab": {}
      },
      "source": [
        ""
      ],
      "execution_count": 27,
      "outputs": []
    }
  ]
}