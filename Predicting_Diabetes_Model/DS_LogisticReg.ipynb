{
  "nbformat": 4,
  "nbformat_minor": 0,
  "metadata": {
    "colab": {
      "name": "DS_NaiveBayes.ipynb",
      "provenance": []
    },
    "kernelspec": {
      "name": "python3",
      "display_name": "Python 3"
    }
  },
  "cells": [
    {
      "cell_type": "code",
      "metadata": {
        "id": "tZTdlw7lBmeO",
        "colab_type": "code",
        "colab": {}
      },
      "source": [
        "import pandas as pd\n",
        "import numpy as np\n",
        "import matplotlib.pyplot as plt"
      ],
      "execution_count": 21,
      "outputs": []
    },
    {
      "cell_type": "code",
      "metadata": {
        "id": "9ruzJByiC_bn",
        "colab_type": "code",
        "colab": {}
      },
      "source": [
        "df_train = pd.read_csv('train.csv')\n",
        "#df_train = df_train[df_train.race != '?']\n",
        "df_test = pd.read_csv('test.csv')\n",
        "#df_test = df_test[df_test.race != '?']"
      ],
      "execution_count": 22,
      "outputs": []
    },
    {
      "cell_type": "code",
      "metadata": {
        "id": "cCoJYzI23n_l",
        "colab_type": "code",
        "colab": {}
      },
      "source": [
        "df_train['race'].replace({'?': 'Other'}, inplace=True)\n",
        "df_test['race'].replace({'?': 'Other'}, inplace=True)"
      ],
      "execution_count": 23,
      "outputs": []
    },
    {
      "cell_type": "code",
      "metadata": {
        "id": "k2CIsEDyVD2V",
        "colab_type": "code",
        "colab": {}
      },
      "source": [
        "X_train = df_train[['race', 'gender', 'age', 'time_in_hospital', 'tel_12', 'tel_42' ,'tel_49']].values\n",
        "X_test = df_test[['race', 'gender', 'age', 'time_in_hospital', 'tel_12', 'tel_42' ,'tel_49']].values\n",
        "#X_train = df_train[['race', 'gender', 'age', 'weight']].values\n",
        "#X_test = df_test[['race', 'gender', 'age', 'weight']].values\n",
        "y_train = df_train.iloc[:,-1].values"
      ],
      "execution_count": 24,
      "outputs": []
    },
    {
      "cell_type": "code",
      "metadata": {
        "id": "DCt91dxS-yXi",
        "colab_type": "code",
        "colab": {}
      },
      "source": [
        "from sklearn.impute import SimpleImputer\n",
        "\n",
        "#imputer = SimpleImputer(missing_values='?', strategy='most_frequent')\n",
        "\n",
        "#imputer.fit(X_train[:,0:1])\n",
        "#X_train[:,0:1] = imputer.transform(X_train[:,0:1])\n",
        "#imputer.fit(X_train[:,3:4])\n",
        "#X_train[:,3:4] = imputer.transform(X_train[:,3:4])\n",
        "\n",
        "#imputer.fit(X_test[:,0:1])\n",
        "#X_test[:,0:1] = imputer.transform(X_test[:,0:1])\n",
        "#imputer.fit(X_test[:,3:4])\n",
        "#X_test[:,3:4] = imputer.transform(X_test[:,3:4])"
      ],
      "execution_count": 25,
      "outputs": []
    },
    {
      "cell_type": "code",
      "metadata": {
        "id": "wQTHfHgUXlDN",
        "colab_type": "code",
        "colab": {}
      },
      "source": [
        "from sklearn.compose import ColumnTransformer\n",
        "from sklearn.preprocessing import OneHotEncoder, LabelEncoder\n",
        "\n",
        "col_trns = ColumnTransformer([('encoder', OneHotEncoder(sparse=False), [0,5,6])], remainder='passthrough')\n",
        "lab_enc = LabelEncoder()\n",
        "\n",
        "X_train = np.array(col_trns.fit_transform(X_train))\n",
        "#X_train[:,-4] = lab_enc.fit_transform(X_train[:,-4])\n",
        "X_train[:,-3] = lab_enc.fit_transform(X_train[:,-3])\n",
        "X_train[:,-4] = lab_enc.fit_transform(X_train[:,-4])\n",
        "#X_train = X_train[:,1:]\n",
        "\n",
        "X_test = np.array(col_trns.fit_transform(X_test))\n",
        "#X_test[:,-4] = lab_enc.fit_transform(X_test[:,-4])\n",
        "X_test[:,-3] = lab_enc.fit_transform(X_test[:,-3])\n",
        "X_test[:,-4] = lab_enc.fit_transform(X_test[:,-4])\n",
        "#X_test = X_test[:,1:]"
      ],
      "execution_count": 26,
      "outputs": []
    },
    {
      "cell_type": "code",
      "metadata": {
        "id": "BHdytb6_PYWf",
        "colab_type": "code",
        "colab": {
          "base_uri": "https://localhost:8080/",
          "height": 52
        },
        "outputId": "8b8df172-f091-40b5-b5d9-071dc9f79956"
      },
      "source": [
        "print(X_test[0])\n",
        "print(len(X_test[0]))"
      ],
      "execution_count": 27,
      "outputs": [
        {
          "output_type": "stream",
          "text": [
            "[0.0 0.0 1.0 0.0 0.0 0.0 0.0 1.0 0.0 0.0 0.0 1.0 0 6 4 7]\n",
            "16\n"
          ],
          "name": "stdout"
        }
      ]
    },
    {
      "cell_type": "code",
      "metadata": {
        "id": "5R3ZCutjkzul",
        "colab_type": "code",
        "colab": {}
      },
      "source": [
        "#from sklearn.naive_bayes import GaussianNB\n",
        "#classifier = GaussianNB()\n",
        "#classifier.fit(X_train, y_train)"
      ],
      "execution_count": 28,
      "outputs": []
    },
    {
      "cell_type": "code",
      "metadata": {
        "id": "Iaag47xUGUaR",
        "colab_type": "code",
        "colab": {
          "base_uri": "https://localhost:8080/",
          "height": 104
        },
        "outputId": "f34cbadf-511b-4f1d-8385-bb8b416d9c4a"
      },
      "source": [
        "from sklearn.linear_model import LogisticRegression\n",
        "classifier = LogisticRegression(solver='lbfgs', max_iter=10000)\n",
        "classifier.fit(X_train, y_train) "
      ],
      "execution_count": 29,
      "outputs": [
        {
          "output_type": "execute_result",
          "data": {
            "text/plain": [
              "LogisticRegression(C=1.0, class_weight=None, dual=False, fit_intercept=True,\n",
              "                   intercept_scaling=1, l1_ratio=None, max_iter=10000,\n",
              "                   multi_class='auto', n_jobs=None, penalty='l2',\n",
              "                   random_state=None, solver='lbfgs', tol=0.0001, verbose=0,\n",
              "                   warm_start=False)"
            ]
          },
          "metadata": {
            "tags": []
          },
          "execution_count": 29
        }
      ]
    },
    {
      "cell_type": "code",
      "metadata": {
        "id": "qeoQTMf3llSh",
        "colab_type": "code",
        "colab": {
          "base_uri": "https://localhost:8080/",
          "height": 156
        },
        "outputId": "ebd30089-fc1a-42ac-b294-b845856ce1ca"
      },
      "source": [
        "test_pred = classifier.predict(X_test)\n",
        "print(test_pred.reshape(len(test_pred), 1))\n",
        "print(np.unique(test_pred, return_counts=True))"
      ],
      "execution_count": 30,
      "outputs": [
        {
          "output_type": "stream",
          "text": [
            "[[1]\n",
            " [1]\n",
            " [1]\n",
            " ...\n",
            " [1]\n",
            " [1]\n",
            " [1]]\n",
            "(array([0, 1]), array([   9, 7961]))\n"
          ],
          "name": "stdout"
        }
      ]
    }
  ]
}